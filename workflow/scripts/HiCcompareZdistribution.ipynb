{
 "cells": [
  {
   "cell_type": "code",
   "execution_count": 78,
   "metadata": {},
   "outputs": [],
   "source": [
    "import random\n",
    "import numpy as np\n",
    "import pandas as pd\n",
    "from scipy import stats\n",
    "import seaborn as sns\n",
    "from utilities import readHomer\n",
    "from collections import defaultdict\n",
    "from statsmodels.stats.multitest import fdrcorrection"
   ]
  },
  {
   "cell_type": "code",
   "execution_count": 79,
   "metadata": {},
   "outputs": [],
   "source": [
    "file = '/media/stephen/Data/HiC-subsample/example/analysis/dat/HiCcompare/chr3L/3000/G1S-vs-AS-logFC-full.homer'"
   ]
  },
  {
   "cell_type": "code",
   "execution_count": 80,
   "metadata": {},
   "outputs": [],
   "source": [
    "mat = readHomer(file, diagonal=True, sparse=False)\n",
    "chrom = mat.attrs['chrom']\n",
    "binSize = mat.attrs['binSize']\n",
    "nBins = int(np.sqrt(len(mat)))"
   ]
  },
  {
   "cell_type": "code",
   "execution_count": 81,
   "metadata": {},
   "outputs": [],
   "source": [
    "mat['seperation'] = (mat['start'] - mat['start2']).abs()\n",
    "mat = mat.loc[abs(mat['seperation']) < 1000000]"
   ]
  },
  {
   "cell_type": "code",
   "execution_count": 82,
   "metadata": {},
   "outputs": [],
   "source": [
    "# Find and drop bins with a high proportion of missing values\n",
    "binZeros = mat.groupby('start')['score'].apply(lambda x: sum(x==0) / len(x))\n",
    "dropBins = binZeros[binZeros > 0.8].index\n",
    "dropRows = mat['start'].isin(dropBins) | mat['start2'].isin(dropBins)\n",
    "mat = mat.loc[~dropRows]"
   ]
  },
  {
   "cell_type": "code",
   "execution_count": null,
   "metadata": {},
   "outputs": [],
   "source": []
  },
  {
   "cell_type": "code",
   "execution_count": 83,
   "metadata": {},
   "outputs": [
    {
     "data": {
      "text/html": [
       "<div>\n",
       "<style scoped>\n",
       "    .dataframe tbody tr th:only-of-type {\n",
       "        vertical-align: middle;\n",
       "    }\n",
       "\n",
       "    .dataframe tbody tr th {\n",
       "        vertical-align: top;\n",
       "    }\n",
       "\n",
       "    .dataframe thead th {\n",
       "        text-align: right;\n",
       "    }\n",
       "</style>\n",
       "<table border=\"1\" class=\"dataframe\">\n",
       "  <thead>\n",
       "    <tr style=\"text-align: right;\">\n",
       "      <th></th>\n",
       "      <th>start</th>\n",
       "      <th>start2</th>\n",
       "      <th>score</th>\n",
       "      <th>seperation</th>\n",
       "    </tr>\n",
       "  </thead>\n",
       "  <tbody>\n",
       "    <tr>\n",
       "      <th>342</th>\n",
       "      <td>5503000</td>\n",
       "      <td>5503000</td>\n",
       "      <td>-0.142257</td>\n",
       "      <td>0</td>\n",
       "    </tr>\n",
       "    <tr>\n",
       "      <th>343</th>\n",
       "      <td>5503000</td>\n",
       "      <td>5506000</td>\n",
       "      <td>-0.154687</td>\n",
       "      <td>3000</td>\n",
       "    </tr>\n",
       "    <tr>\n",
       "      <th>344</th>\n",
       "      <td>5503000</td>\n",
       "      <td>5509000</td>\n",
       "      <td>-0.131432</td>\n",
       "      <td>6000</td>\n",
       "    </tr>\n",
       "    <tr>\n",
       "      <th>345</th>\n",
       "      <td>5503000</td>\n",
       "      <td>5512000</td>\n",
       "      <td>0.226020</td>\n",
       "      <td>9000</td>\n",
       "    </tr>\n",
       "    <tr>\n",
       "      <th>346</th>\n",
       "      <td>5503000</td>\n",
       "      <td>5515000</td>\n",
       "      <td>0.226020</td>\n",
       "      <td>12000</td>\n",
       "    </tr>\n",
       "    <tr>\n",
       "      <th>...</th>\n",
       "      <td>...</td>\n",
       "      <td>...</td>\n",
       "      <td>...</td>\n",
       "      <td>...</td>\n",
       "    </tr>\n",
       "    <tr>\n",
       "      <th>28382</th>\n",
       "      <td>5995000</td>\n",
       "      <td>5983000</td>\n",
       "      <td>-0.066327</td>\n",
       "      <td>12000</td>\n",
       "    </tr>\n",
       "    <tr>\n",
       "      <th>28383</th>\n",
       "      <td>5995000</td>\n",
       "      <td>5986000</td>\n",
       "      <td>-0.158114</td>\n",
       "      <td>9000</td>\n",
       "    </tr>\n",
       "    <tr>\n",
       "      <th>28384</th>\n",
       "      <td>5995000</td>\n",
       "      <td>5989000</td>\n",
       "      <td>-0.206517</td>\n",
       "      <td>6000</td>\n",
       "    </tr>\n",
       "    <tr>\n",
       "      <th>28385</th>\n",
       "      <td>5995000</td>\n",
       "      <td>5992000</td>\n",
       "      <td>-0.281378</td>\n",
       "      <td>3000</td>\n",
       "    </tr>\n",
       "    <tr>\n",
       "      <th>28386</th>\n",
       "      <td>5995000</td>\n",
       "      <td>5995000</td>\n",
       "      <td>-0.281378</td>\n",
       "      <td>0</td>\n",
       "    </tr>\n",
       "  </tbody>\n",
       "</table>\n",
       "<p>25921 rows × 4 columns</p>\n",
       "</div>"
      ],
      "text/plain": [
       "         start   start2     score  seperation\n",
       "342    5503000  5503000 -0.142257           0\n",
       "343    5503000  5506000 -0.154687        3000\n",
       "344    5503000  5509000 -0.131432        6000\n",
       "345    5503000  5512000  0.226020        9000\n",
       "346    5503000  5515000  0.226020       12000\n",
       "...        ...      ...       ...         ...\n",
       "28382  5995000  5983000 -0.066327       12000\n",
       "28383  5995000  5986000 -0.158114        9000\n",
       "28384  5995000  5989000 -0.206517        6000\n",
       "28385  5995000  5992000 -0.281378        3000\n",
       "28386  5995000  5995000 -0.281378           0\n",
       "\n",
       "[25921 rows x 4 columns]"
      ]
     },
     "execution_count": 83,
     "metadata": {},
     "output_type": "execute_result"
    }
   ],
   "source": [
    "mat"
   ]
  },
  {
   "cell_type": "code",
   "execution_count": 84,
   "metadata": {},
   "outputs": [],
   "source": [
    "\n",
    "mat['abs(score)'] = abs(mat['score'])\n",
    "summed = mat.groupby('start')[['abs(score)', 'score']].sum()"
   ]
  },
  {
   "cell_type": "code",
   "execution_count": 100,
   "metadata": {},
   "outputs": [
    {
     "data": {
      "text/plain": [
       "start\n",
       "5503000     85\n",
       "5506000     70\n",
       "5509000     70\n",
       "5512000     55\n",
       "5515000     35\n",
       "          ... \n",
       "5983000     85\n",
       "5986000     90\n",
       "5989000     75\n",
       "5992000     80\n",
       "5995000    100\n",
       "Name: abs(score), Length: 161, dtype: category\n",
       "Categories (20, int64): [100 < 95 < 90 < 85 ... 20 < 15 < 10 < 5]"
      ]
     },
     "execution_count": 100,
     "metadata": {},
     "output_type": "execute_result"
    }
   ],
   "source": [
    "pd.qcut(summed['abs(score)'], 20, labels=range(100, 0, -5))"
   ]
  },
  {
   "cell_type": "code",
   "execution_count": 98,
   "metadata": {},
   "outputs": [
    {
     "data": {
      "text/plain": [
       "count    161.000000\n",
       "mean      36.612314\n",
       "std       14.523994\n",
       "min       14.906685\n",
       "25%       24.941975\n",
       "50%       34.150363\n",
       "75%       44.103897\n",
       "max       87.283187\n",
       "Name: abs(score), dtype: float64"
      ]
     },
     "execution_count": 98,
     "metadata": {},
     "output_type": "execute_result"
    }
   ],
   "source": [
    "summed['abs(score)'].describe()"
   ]
  },
  {
   "cell_type": "code",
   "execution_count": 41,
   "metadata": {},
   "outputs": [],
   "source": [
    "test = []\n",
    "summed = mat.groupby('start')[['abs(score)', 'score']].sum()\n",
    "random.seed(42)\n",
    "nShadow = 1000\n",
    "summed['shadowSum'] = 0\n",
    "summed['shadowSumX2'] = 0\n",
    "for _ in range(nShadow):\n",
    "    mat['randomScore'] = mat.groupby('seperation')['abs(score)'].transform(np.random.permutation)\n",
    "    shadowMat = mat.groupby('start')['randomScore'].sum()\n",
    "    test.append(shadowMat.iloc[10])\n",
    "    summed['shadowSum'] += shadowMat\n",
    "    summed['shadowSumX2'] += shadowMat * shadowMat\n",
    "summed = summed.reset_index()"
   ]
  },
  {
   "cell_type": "code",
   "execution_count": 42,
   "metadata": {},
   "outputs": [
    {
     "data": {
      "text/plain": [
       "<AxesSubplot:ylabel='Count'>"
      ]
     },
     "execution_count": 42,
     "metadata": {},
     "output_type": "execute_result"
    },
    {
     "data": {
      "image/png": "[encoded data removed]",
      "text/plain": [
       "<Figure size 432x288 with 1 Axes>"
      ]
     },
     "metadata": {
      "needs_background": "light"
     },
     "output_type": "display_data"
    }
   ],
   "source": [
    "sns.histplot(test)"
   ]
  },
  {
   "cell_type": "code",
   "execution_count": 32,
   "metadata": {},
   "outputs": [
    {
     "data": {
      "text/html": [
       "<div>\n",
       "<style scoped>\n",
       "    .dataframe tbody tr th:only-of-type {\n",
       "        vertical-align: middle;\n",
       "    }\n",
       "\n",
       "    .dataframe tbody tr th {\n",
       "        vertical-align: top;\n",
       "    }\n",
       "\n",
       "    .dataframe thead th {\n",
       "        text-align: right;\n",
       "    }\n",
       "</style>\n",
       "<table border=\"1\" class=\"dataframe\">\n",
       "  <thead>\n",
       "    <tr style=\"text-align: right;\">\n",
       "      <th></th>\n",
       "      <th>start</th>\n",
       "      <th>start2</th>\n",
       "      <th>score</th>\n",
       "      <th>seperation</th>\n",
       "      <th>up</th>\n",
       "      <th>abs(score)</th>\n",
       "      <th>randomScore</th>\n",
       "    </tr>\n",
       "  </thead>\n",
       "  <tbody>\n",
       "    <tr>\n",
       "      <th>0</th>\n",
       "      <td>5497000</td>\n",
       "      <td>5497000</td>\n",
       "      <td>0.0</td>\n",
       "      <td>0</td>\n",
       "      <td>False</td>\n",
       "      <td>0.0</td>\n",
       "      <td>0.085576</td>\n",
       "    </tr>\n",
       "    <tr>\n",
       "      <th>170</th>\n",
       "      <td>5500000</td>\n",
       "      <td>5497000</td>\n",
       "      <td>0.0</td>\n",
       "      <td>3000</td>\n",
       "      <td>False</td>\n",
       "      <td>0.0</td>\n",
       "      <td>0.218920</td>\n",
       "    </tr>\n",
       "    <tr>\n",
       "      <th>340</th>\n",
       "      <td>5503000</td>\n",
       "      <td>5497000</td>\n",
       "      <td>0.0</td>\n",
       "      <td>6000</td>\n",
       "      <td>False</td>\n",
       "      <td>0.0</td>\n",
       "      <td>0.053315</td>\n",
       "    </tr>\n",
       "    <tr>\n",
       "      <th>510</th>\n",
       "      <td>5506000</td>\n",
       "      <td>5497000</td>\n",
       "      <td>0.0</td>\n",
       "      <td>9000</td>\n",
       "      <td>False</td>\n",
       "      <td>0.0</td>\n",
       "      <td>0.019289</td>\n",
       "    </tr>\n",
       "    <tr>\n",
       "      <th>680</th>\n",
       "      <td>5509000</td>\n",
       "      <td>5497000</td>\n",
       "      <td>0.0</td>\n",
       "      <td>12000</td>\n",
       "      <td>False</td>\n",
       "      <td>0.0</td>\n",
       "      <td>0.211804</td>\n",
       "    </tr>\n",
       "    <tr>\n",
       "      <th>...</th>\n",
       "      <td>...</td>\n",
       "      <td>...</td>\n",
       "      <td>...</td>\n",
       "      <td>...</td>\n",
       "      <td>...</td>\n",
       "      <td>...</td>\n",
       "      <td>...</td>\n",
       "    </tr>\n",
       "    <tr>\n",
       "      <th>28050</th>\n",
       "      <td>5992000</td>\n",
       "      <td>5497000</td>\n",
       "      <td>0.0</td>\n",
       "      <td>495000</td>\n",
       "      <td>False</td>\n",
       "      <td>0.0</td>\n",
       "      <td>0.000000</td>\n",
       "    </tr>\n",
       "    <tr>\n",
       "      <th>28220</th>\n",
       "      <td>5995000</td>\n",
       "      <td>5497000</td>\n",
       "      <td>0.0</td>\n",
       "      <td>498000</td>\n",
       "      <td>False</td>\n",
       "      <td>0.0</td>\n",
       "      <td>0.000000</td>\n",
       "    </tr>\n",
       "    <tr>\n",
       "      <th>28390</th>\n",
       "      <td>5998000</td>\n",
       "      <td>5497000</td>\n",
       "      <td>0.0</td>\n",
       "      <td>501000</td>\n",
       "      <td>False</td>\n",
       "      <td>0.0</td>\n",
       "      <td>0.000000</td>\n",
       "    </tr>\n",
       "    <tr>\n",
       "      <th>28560</th>\n",
       "      <td>6001000</td>\n",
       "      <td>5497000</td>\n",
       "      <td>0.0</td>\n",
       "      <td>504000</td>\n",
       "      <td>False</td>\n",
       "      <td>0.0</td>\n",
       "      <td>0.000000</td>\n",
       "    </tr>\n",
       "    <tr>\n",
       "      <th>28730</th>\n",
       "      <td>6004000</td>\n",
       "      <td>5497000</td>\n",
       "      <td>0.0</td>\n",
       "      <td>507000</td>\n",
       "      <td>False</td>\n",
       "      <td>0.0</td>\n",
       "      <td>0.000000</td>\n",
       "    </tr>\n",
       "  </tbody>\n",
       "</table>\n",
       "<p>170 rows × 7 columns</p>\n",
       "</div>"
      ],
      "text/plain": [
       "         start   start2  score  seperation     up  abs(score)  randomScore\n",
       "0      5497000  5497000    0.0           0  False         0.0     0.085576\n",
       "170    5500000  5497000    0.0        3000  False         0.0     0.218920\n",
       "340    5503000  5497000    0.0        6000  False         0.0     0.053315\n",
       "510    5506000  5497000    0.0        9000  False         0.0     0.019289\n",
       "680    5509000  5497000    0.0       12000  False         0.0     0.211804\n",
       "...        ...      ...    ...         ...    ...         ...          ...\n",
       "28050  5992000  5497000    0.0      495000  False         0.0     0.000000\n",
       "28220  5995000  5497000    0.0      498000  False         0.0     0.000000\n",
       "28390  5998000  5497000    0.0      501000  False         0.0     0.000000\n",
       "28560  6001000  5497000    0.0      504000  False         0.0     0.000000\n",
       "28730  6004000  5497000    0.0      507000  False         0.0     0.000000\n",
       "\n",
       "[170 rows x 7 columns]"
      ]
     },
     "execution_count": 32,
     "metadata": {},
     "output_type": "execute_result"
    }
   ],
   "source": [
    "mat[mat['start2'] == 5497000]"
   ]
  },
  {
   "cell_type": "code",
   "execution_count": 303,
   "metadata": {},
   "outputs": [],
   "source": [
    "summed['shadowMean'] = summed['shadowSum'] / nShadow\n",
    "summed['shadowStd'] = np.sqrt((summed['shadowSumX2'] / nShadow) - (summed['shadowMean'] * summed['shadowMean'])) "
   ]
  },
  {
   "cell_type": "code",
   "execution_count": 304,
   "metadata": {},
   "outputs": [],
   "source": [
    "summed['Z'] = (summed['score'] - summed['shadowMean']) / summed['shadowStd']"
   ]
  },
  {
   "cell_type": "code",
   "execution_count": 317,
   "metadata": {},
   "outputs": [],
   "source": [
    "summed['p'] = stats.norm.sf(abs(summed['Z'])) * 2"
   ]
  },
  {
   "cell_type": "code",
   "execution_count": 318,
   "metadata": {},
   "outputs": [],
   "source": [
    "intervals = pd.interval_range(0, 1, 20, closed='right')\n",
    "summed['pBin'] = pd.cut(summed['p'], bins=intervals)"
   ]
  },
  {
   "cell_type": "code",
   "execution_count": 349,
   "metadata": {},
   "outputs": [],
   "source": [
    "summed['fdr'] = fdrcorrection(summed['p'])[1]"
   ]
  },
  {
   "cell_type": "code",
   "execution_count": 354,
   "metadata": {},
   "outputs": [],
   "source": [
    "summedFilter = summed.loc[abs(summed['fdr']) > 0.05].copy()"
   ]
  },
  {
   "cell_type": "code",
   "execution_count": 355,
   "metadata": {},
   "outputs": [],
   "source": [
    "summedFilter['significant'] = summedFilter.apply(\n",
    "    lambda x: 1 if x['fdr'] > 0 else -1, axis=1)"
   ]
  },
  {
   "cell_type": "code",
   "execution_count": 356,
   "metadata": {},
   "outputs": [],
   "source": [
    "summedFilter['name'] = '.'"
   ]
  },
  {
   "cell_type": "code",
   "execution_count": 347,
   "metadata": {},
   "outputs": [
    {
     "data": {
      "text/html": [
       "<div>\n",
       "<style scoped>\n",
       "    .dataframe tbody tr th:only-of-type {\n",
       "        vertical-align: middle;\n",
       "    }\n",
       "\n",
       "    .dataframe tbody tr th {\n",
       "        vertical-align: top;\n",
       "    }\n",
       "\n",
       "    .dataframe thead th {\n",
       "        text-align: right;\n",
       "    }\n",
       "</style>\n",
       "<table border=\"1\" class=\"dataframe\">\n",
       "  <thead>\n",
       "    <tr style=\"text-align: right;\">\n",
       "      <th></th>\n",
       "      <th>chrom</th>\n",
       "      <th>start</th>\n",
       "      <th>end</th>\n",
       "      <th>pScore</th>\n",
       "    </tr>\n",
       "  </thead>\n",
       "  <tbody>\n",
       "    <tr>\n",
       "      <th>0</th>\n",
       "      <td>3L</td>\n",
       "      <td>5497000</td>\n",
       "      <td>5500000</td>\n",
       "      <td>0.30</td>\n",
       "    </tr>\n",
       "    <tr>\n",
       "      <th>1</th>\n",
       "      <td>3L</td>\n",
       "      <td>5500000</td>\n",
       "      <td>5503000</td>\n",
       "      <td>0.95</td>\n",
       "    </tr>\n",
       "    <tr>\n",
       "      <th>2</th>\n",
       "      <td>3L</td>\n",
       "      <td>5503000</td>\n",
       "      <td>5506000</td>\n",
       "      <td>0.95</td>\n",
       "    </tr>\n",
       "    <tr>\n",
       "      <th>3</th>\n",
       "      <td>3L</td>\n",
       "      <td>5506000</td>\n",
       "      <td>5509000</td>\n",
       "      <td>0.95</td>\n",
       "    </tr>\n",
       "    <tr>\n",
       "      <th>4</th>\n",
       "      <td>3L</td>\n",
       "      <td>5509000</td>\n",
       "      <td>5512000</td>\n",
       "      <td>0.95</td>\n",
       "    </tr>\n",
       "    <tr>\n",
       "      <th>...</th>\n",
       "      <td>...</td>\n",
       "      <td>...</td>\n",
       "      <td>...</td>\n",
       "      <td>...</td>\n",
       "    </tr>\n",
       "    <tr>\n",
       "      <th>165</th>\n",
       "      <td>3L</td>\n",
       "      <td>5992000</td>\n",
       "      <td>5995000</td>\n",
       "      <td>0.95</td>\n",
       "    </tr>\n",
       "    <tr>\n",
       "      <th>166</th>\n",
       "      <td>3L</td>\n",
       "      <td>5995000</td>\n",
       "      <td>5998000</td>\n",
       "      <td>0.95</td>\n",
       "    </tr>\n",
       "    <tr>\n",
       "      <th>167</th>\n",
       "      <td>3L</td>\n",
       "      <td>5998000</td>\n",
       "      <td>6001000</td>\n",
       "      <td>0.75</td>\n",
       "    </tr>\n",
       "    <tr>\n",
       "      <th>168</th>\n",
       "      <td>3L</td>\n",
       "      <td>6001000</td>\n",
       "      <td>6004000</td>\n",
       "      <td>0.40</td>\n",
       "    </tr>\n",
       "    <tr>\n",
       "      <th>169</th>\n",
       "      <td>3L</td>\n",
       "      <td>6004000</td>\n",
       "      <td>6007000</td>\n",
       "      <td>0.10</td>\n",
       "    </tr>\n",
       "  </tbody>\n",
       "</table>\n",
       "<p>170 rows × 4 columns</p>\n",
       "</div>"
      ],
      "text/plain": [
       "    chrom    start      end pScore\n",
       "0      3L  5497000  5500000   0.30\n",
       "1      3L  5500000  5503000   0.95\n",
       "2      3L  5503000  5506000   0.95\n",
       "3      3L  5506000  5509000   0.95\n",
       "4      3L  5509000  5512000   0.95\n",
       "..    ...      ...      ...    ...\n",
       "165    3L  5992000  5995000   0.95\n",
       "166    3L  5995000  5998000   0.95\n",
       "167    3L  5998000  6001000   0.75\n",
       "168    3L  6001000  6004000   0.40\n",
       "169    3L  6004000  6007000   0.10\n",
       "\n",
       "[170 rows x 4 columns]"
      ]
     },
     "execution_count": 347,
     "metadata": {},
     "output_type": "execute_result"
    }
   ],
   "source": [
    "summed['chrom'] = chrom\n",
    "summed['end'] = summed['start'] + binSize\n",
    "summed.reset_index()[['chrom', 'start', 'end', 'pScore']]"
   ]
  },
  {
   "cell_type": "code",
   "execution_count": 283,
   "metadata": {},
   "outputs": [
    {
     "data": {
      "text/html": [
       "<div>\n",
       "<style scoped>\n",
       "    .dataframe tbody tr th:only-of-type {\n",
       "        vertical-align: middle;\n",
       "    }\n",
       "\n",
       "    .dataframe tbody tr th {\n",
       "        vertical-align: top;\n",
       "    }\n",
       "\n",
       "    .dataframe thead th {\n",
       "        text-align: right;\n",
       "    }\n",
       "</style>\n",
       "<table border=\"1\" class=\"dataframe\">\n",
       "  <thead>\n",
       "    <tr style=\"text-align: right;\">\n",
       "      <th></th>\n",
       "      <th>start</th>\n",
       "      <th>end</th>\n",
       "    </tr>\n",
       "  </thead>\n",
       "  <tbody>\n",
       "    <tr>\n",
       "      <th>0</th>\n",
       "      <td>5497000</td>\n",
       "      <td>5500000</td>\n",
       "    </tr>\n",
       "    <tr>\n",
       "      <th>1</th>\n",
       "      <td>5500000</td>\n",
       "      <td>5503000</td>\n",
       "    </tr>\n",
       "    <tr>\n",
       "      <th>2</th>\n",
       "      <td>5503000</td>\n",
       "      <td>5506000</td>\n",
       "    </tr>\n",
       "    <tr>\n",
       "      <th>3</th>\n",
       "      <td>5506000</td>\n",
       "      <td>5509000</td>\n",
       "    </tr>\n",
       "    <tr>\n",
       "      <th>4</th>\n",
       "      <td>5509000</td>\n",
       "      <td>5512000</td>\n",
       "    </tr>\n",
       "    <tr>\n",
       "      <th>...</th>\n",
       "      <td>...</td>\n",
       "      <td>...</td>\n",
       "    </tr>\n",
       "    <tr>\n",
       "      <th>165</th>\n",
       "      <td>5992000</td>\n",
       "      <td>5995000</td>\n",
       "    </tr>\n",
       "    <tr>\n",
       "      <th>166</th>\n",
       "      <td>5995000</td>\n",
       "      <td>5998000</td>\n",
       "    </tr>\n",
       "    <tr>\n",
       "      <th>167</th>\n",
       "      <td>5998000</td>\n",
       "      <td>6001000</td>\n",
       "    </tr>\n",
       "    <tr>\n",
       "      <th>168</th>\n",
       "      <td>6001000</td>\n",
       "      <td>6004000</td>\n",
       "    </tr>\n",
       "    <tr>\n",
       "      <th>169</th>\n",
       "      <td>6004000</td>\n",
       "      <td>6007000</td>\n",
       "    </tr>\n",
       "  </tbody>\n",
       "</table>\n",
       "<p>170 rows × 2 columns</p>\n",
       "</div>"
      ],
      "text/plain": [
       "       start      end\n",
       "0    5497000  5500000\n",
       "1    5500000  5503000\n",
       "2    5503000  5506000\n",
       "3    5506000  5509000\n",
       "4    5509000  5512000\n",
       "..       ...      ...\n",
       "165  5992000  5995000\n",
       "166  5995000  5998000\n",
       "167  5998000  6001000\n",
       "168  6001000  6004000\n",
       "169  6004000  6007000\n",
       "\n",
       "[170 rows x 2 columns]"
      ]
     },
     "execution_count": 283,
     "metadata": {},
     "output_type": "execute_result"
    }
   ],
   "source": [
    "summed.reset_index()[['start', 'end']]"
   ]
  },
  {
   "cell_type": "code",
   "execution_count": null,
   "metadata": {},
   "outputs": [],
   "source": []
  }
 ],
 "metadata": {
  "kernelspec": {
   "display_name": "Python 3",
   "language": "python",
   "name": "python3"
  },
  "language_info": {
   "codemirror_mode": {
    "name": "ipython",
    "version": 3
   },
   "file_extension": ".py",
   "mimetype": "text/x-python",
   "name": "python",
   "nbconvert_exporter": "python",
   "pygments_lexer": "ipython3",
   "version": "3.7.3"
  }
 },
 "nbformat": 4,
 "nbformat_minor": 4
}
