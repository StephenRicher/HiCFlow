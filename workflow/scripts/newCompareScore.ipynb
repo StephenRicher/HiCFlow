{
 "cells": [
  {
   "cell_type": "code",
   "execution_count": 1,
   "metadata": {},
   "outputs": [],
   "source": [
    "import glob\n",
    "import numpy as np\n",
    "import pandas as pd\n",
    "from scipy import stats\n",
    "from scipy.sparse import triu\n",
    "from collections import defaultdict\n",
    "from hicmatrix import HiCMatrix as hm\n",
    "from statsmodels.stats.multitest import fdrcorrection\n",
    "from matplotlib import cm\n",
    "from matplotlib.colors import to_hex"
   ]
  },
  {
   "cell_type": "code",
   "execution_count": 2,
   "metadata": {},
   "outputs": [],
   "source": [
    "def directionPreference(matrix, chrom: str, binSize: int):\n",
    "\n",
    "    diffChange = defaultdict(list)\n",
    "    for start, df in matrix.groupby('start'):\n",
    "        diffChange['start'].append(start)\n",
    "        try:\n",
    "            _, p = stats.wilcoxon(df['score'], alternative='two-sided')\n",
    "        except ValueError:\n",
    "            p = np.nan\n",
    "\n",
    "        diffChange['p'].append(p)\n",
    "        nonZeroScores = df.loc[df['score'] != 0, 'score']\n",
    "        if not nonZeroScores.empty:\n",
    "            direction = 1 if nonZeroScores.median() > 0 else -1\n",
    "        else:\n",
    "            direction = np.nan\n",
    "        diffChange['direction'].append(direction)\n",
    "    diffChange = pd.DataFrame(diffChange)\n",
    "    diffChange['chrom'] = chrom\n",
    "    diffChange['end'] = diffChange['start'] + binSize\n",
    "\n",
    "    return diffChange"
   ]
  },
  {
   "cell_type": "code",
   "execution_count": 3,
   "metadata": {},
   "outputs": [],
   "source": [
    "def getColour(x, fdr, colourmap):\n",
    "    if x['p(adj)'] <= fdr:\n",
    "        if x['direction'] == 1:\n",
    "            i = (x['quantScore'] * 0.5)  + 0.5\n",
    "        else:\n",
    "            i = (1 - x['quantScore']) * 0.5\n",
    "        colour = to_hex(cm.get_cmap(colourmap, 40)(i))[1:]\n",
    "    else:\n",
    "        i = x['quantScore']\n",
    "        colour = to_hex(cm.get_cmap('binary', 20)(i))[1:]\n",
    "    colour = f'{int(colour[:2], 16)},{int(colour[2:4], 16)},{int(colour[4:], 16)}'\n",
    "    return colour"
   ]
  },
  {
   "cell_type": "code",
   "execution_count": 4,
   "metadata": {},
   "outputs": [],
   "source": [
    "fdr = 0.05\n",
    "colourmap = 'bwr'"
   ]
  },
  {
   "cell_type": "code",
   "execution_count": 5,
   "metadata": {},
   "outputs": [],
   "source": [
    "for cell in ['GM12878', 'H1hESC', 'IMR90']:\n",
    "    # Awaiting H1 results\n",
    "    if cell == 'H1hESC':\n",
    "        continue\n",
    "        \n",
    "    matrices = glob.glob(f'../../../HiCimages/{cell}/alleleGRCh37/dat/HiCsubtract/chr*/20000/{cell}_a1-vs-{cell}_a2-LOESSdiff-noFilter-SNPsplit.h5')\n",
    "\n",
    "    allRegions = []\n",
    "    allDirection = []\n",
    "    for matrix in matrices:\n",
    "        hic = hm.hiCMatrix(matrix)\n",
    "        binSize = hic.getBinSize()\n",
    "        chrom = hic.getChrNames()[0]\n",
    "\n",
    "        nonzeroIdx = hic.matrix.nonzero()\n",
    "        nonzeroValues = hic.matrix[nonzeroIdx].tolist()[0]\n",
    "        mat = pd.DataFrame({'start': nonzeroIdx[0], 'start2': nonzeroIdx[1], 'value': nonzeroValues})\n",
    "        mat['start'] = mat['start'].apply(lambda x: hic.getBinPos(x)[1])\n",
    "        mat['start2'] = mat['start2'].apply(lambda x: hic.getBinPos(x)[1])\n",
    "        mat.columns = ['start', 'start2', 'score']\n",
    "        binDirection = directionPreference(mat, chrom, binSize)\n",
    "        allDirection.append(binDirection)\n",
    "\n",
    "        mat['seperation'] = (mat['start'] - mat['start2']).abs()\n",
    "        mat['abs(score)'] = abs(mat['score'])\n",
    "        summed = mat.groupby('start')[['abs(score)']].sum().reset_index()\n",
    "        summed['chrom'] = chrom\n",
    "        summed['quantScore'] = pd.qcut(\n",
    "            summed['abs(score)'].rank(method='first'), 20, labels=np.linspace(0, 1, 20))\n",
    "        allRegions.append(summed)\n",
    "\n",
    "    allRegions = pd.concat(allRegions).set_index(['chrom', 'start']).sample(frac=1)\n",
    "    #allRegions['quantScore'] = pd.qcut(\n",
    "    #    allRegions['abs(score)'].rank(method='first'), 20, labels=np.linspace(0, 1, 20))\n",
    "    allDirection = pd.concat(allDirection).set_index(['chrom', 'start'])\n",
    "\n",
    "    allRegions = allRegions.merge(\n",
    "        allDirection, left_index=True, right_index=True).reset_index()\n",
    "    allRegions['end'] = allRegions['start'] + binSize\n",
    "    validP = allRegions['p'].notna()\n",
    "    allRegions['p(adj)'] = np.nan\n",
    "    allRegions.loc[validP, 'p(adj)'] = fdrcorrection(allRegions.loc[validP, 'p'])[1]\n",
    "\n",
    "    allRegions['colour'] = allRegions.apply(getColour, args=(fdr, colourmap), axis=1)\n",
    "\n",
    "    allRegions['name'] = '.'\n",
    "    allRegions['strand'] = '.'\n",
    "    allRegions['thickStart'] = allRegions['start']\n",
    "    allRegions['thickEnd'] = allRegions['end']\n",
    "    columns = ([\n",
    "        'chrom', 'start', 'end', 'name', 'abs(score)', 'strand',\n",
    "        'thickStart', 'thickEnd', 'colour'])\n",
    "    allRegions[columns].to_csv(\n",
    "        f'/media/stephen/MyPassport1/PhD/HiCimages/{cell}/alleleGRCh37/{cell}-newComputeScore.bed', \n",
    "        index=False, header=False, sep='\\t')"
   ]
  },
  {
   "cell_type": "code",
   "execution_count": null,
   "metadata": {},
   "outputs": [],
   "source": []
  }
 ],
 "metadata": {
  "kernelspec": {
   "display_name": "Python 3",
   "language": "python",
   "name": "python3"
  },
  "language_info": {
   "codemirror_mode": {
    "name": "ipython",
    "version": 3
   },
   "file_extension": ".py",
   "mimetype": "text/x-python",
   "name": "python",
   "nbconvert_exporter": "python",
   "pygments_lexer": "ipython3",
   "version": "3.7.3"
  }
 },
 "nbformat": 4,
 "nbformat_minor": 4
}
